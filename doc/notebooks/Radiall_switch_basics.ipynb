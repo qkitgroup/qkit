{
 "cells": [
  {
   "cell_type": "code",
   "execution_count": 1,
   "metadata": {},
   "outputs": [
    {
     "name": "stdout",
     "output_type": "stream",
     "text": [
      "QKIT configuration initialized -> available as qkit.cfg[...]\n",
      "Starting QKIT framework ... -> qkit.core.startup\n",
      "Loading module ... S10_logging.py\n",
      "Loading module ... S14_setup_directories.py\n",
      "Loading module ... S16_available_modules.py\n",
      "Loading module ... S20_check_for_updates.py\n",
      "Loading module ... S25_info_service.py\n",
      "Loading module ... S30_qkit_start.py\n",
      "Loading module ... S65_load_RI_service.py\n",
      "Loading module ... S70_load_visa.py\n",
      "Loading module ... S80_load_file_service.py\n",
      "Loading module ... S85_init_measurement.py\n"
     ]
    },
    {
     "data": {
      "application/vnd.jupyter.widget-view+json": {
       "model_id": "da077915d34b4e408269c9fc1f4c10bf",
       "version_major": 2,
       "version_minor": 0
      },
      "text/plain": [
       "HBox(children=(Text(value='', description='Please check: Run ID', placeholder='***RUN_ID IS EMPTY***', style=D…"
      ]
     },
     "metadata": {},
     "output_type": "display_data"
    },
    {
     "name": "stdout",
     "output_type": "stream",
     "text": [
      "Loading module ... S98_started.py\n",
      "Loading module ... S99_init_user.py\n",
      "Initialized the file info database (qkit.fid) in 0.290 seconds.\n"
     ]
    }
   ],
   "source": [
    "import time\n",
    "import qkit\n",
    "qkit.start()"
   ]
  },
  {
   "cell_type": "markdown",
   "metadata": {},
   "source": [
    "# Controller for Radiall coaxial switches\n",
    "* for two `Radiall R591.722.600` switches each with 6 input and 1 output lines\n",
    "* the controller sends positive or negative current pulses of a length `pulse_length` to the specified switch's control line to enable or disable the individual coaxial input lines."
   ]
  },
  {
   "cell_type": "code",
   "execution_count": 3,
   "metadata": {},
   "outputs": [
    {
     "name": "stdout",
     "output_type": "stream",
     "text": [
      "Connecting to switch server...\n"
     ]
    }
   ],
   "source": [
    "switch = qkit.instruments.create(\"switch\",\"switch_client\",url=\"tcp://XX.XX.XXX.XXX:XXXX\")"
   ]
  },
  {
   "cell_type": "markdown",
   "metadata": {
    "tags": []
   },
   "source": [
    "## pulse length\n",
    "* set pulse length to avoid unnecessary heating\n",
    "* pulse times of 1ms are well possible with the switch box (Checked with Oszi). Everything below might look strange.\n",
    "* a pulse time of 80ms is a good trade-off between a reliable switching and a low heat input"
   ]
  },
  {
   "cell_type": "code",
   "execution_count": null,
   "metadata": {},
   "outputs": [
    {
     "data": {
      "text/plain": [
       "'[0.08, 0.08]'"
      ]
     },
     "execution_count": 4,
     "metadata": {},
     "output_type": "execute_result"
    }
   ],
   "source": [
    "switch.set_pulse_length(0.08)\n",
    "switch.get_pulse_length()"
   ]
  },
  {
   "cell_type": "markdown",
   "metadata": {},
   "source": [
    "## change position\n",
    "* `switch.enable(switch, line)` enables the specified switch's `switch` input line `line`\n",
    "* `switch.disable(switch, line)` disables the specified switch's `switch` input line `line`\n",
    "* `switch.get_position(switch)` queries the specified switch's `switch` input line from the switch server (and not from the hardware).\n",
    "* `switch.switch_to(switch, line)` disables the current position and enables the specified switch's `switch` input line `line`\n",
    "* `switch.reset(switch)` disables all the specified switch's `switch` input line s"
   ]
  },
  {
   "cell_type": "code",
   "execution_count": null,
   "metadata": {},
   "outputs": [],
   "source": [
    "switch.enable(1,1)"
   ]
  },
  {
   "cell_type": "code",
   "execution_count": null,
   "metadata": {},
   "outputs": [],
   "source": [
    "switch.disable(1,1)"
   ]
  },
  {
   "cell_type": "code",
   "execution_count": null,
   "metadata": {},
   "outputs": [],
   "source": [
    "switch.get_position(1)"
   ]
  },
  {
   "cell_type": "code",
   "execution_count": null,
   "metadata": {},
   "outputs": [],
   "source": [
    "switch.switch_to(1,1)"
   ]
  },
  {
   "cell_type": "code",
   "execution_count": null,
   "metadata": {},
   "outputs": [],
   "source": [
    "switch.reset(1)"
   ]
  }
 ],
 "metadata": {
  "kernelspec": {
   "display_name": "Python 3 (ipykernel)",
   "language": "python",
   "name": "python3"
  },
  "language_info": {
   "codemirror_mode": {
    "name": "ipython",
    "version": 3
   },
   "file_extension": ".py",
   "mimetype": "text/x-python",
   "name": "python",
   "nbconvert_exporter": "python",
   "pygments_lexer": "ipython3",
   "version": "3.8.16"
  },
  "toc-autonumbering": true
 },
 "nbformat": 4,
 "nbformat_minor": 4
}
