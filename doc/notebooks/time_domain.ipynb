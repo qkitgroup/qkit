{
 "cells": [
  {
   "cell_type": "markdown",
   "id": "cc41091a-101a-4e39-b0fc-ddb4a038b162",
   "metadata": {
    "tags": []
   },
   "source": [
    "# Time domain measurement data analysis\n",
    "This is an example notebook for the analysis class `timedomain` of `qkit.analysis.timedomain.py`. This handels time domain measurement data taken with `qkit.measure.timedomain.measure_td.py` and provides methods to\n",
    "* load data files,\n",
    "* open the qkit-viewer for .h5-files,\n",
    "* merge data files,\n",
    "* fit $ T_1 $ energy relaxation, $ T_2 $-Ramsey, and $ T_2 $-Echo dephasing time.\n",
    "\n",
    "For error propagation the [`uncertainties`](https://github.com/lebigot/uncertainties) package is used."
   ]
  },
  {
   "cell_type": "code",
   "execution_count": null,
   "id": "6589810b-24f9-4e06-9e3d-0db02a95b853",
   "metadata": {},
   "outputs": [],
   "source": [
    "import numpy as np\n",
    "from uncertainties import ufloat, umath, unumpy as unp\n",
    "from scipy import signal as sig\n",
    "import matplotlib.pyplot as plt"
   ]
  },
  {
   "cell_type": "code",
   "execution_count": null,
   "id": "8e2a7dca-4ced-4f48-9c1d-42ff9387a8ca",
   "metadata": {},
   "outputs": [],
   "source": [
    "import qkit\n",
    "qkit.start()"
   ]
  },
  {
   "cell_type": "code",
   "execution_count": null,
   "id": "0ea8a1ee-21b7-4a57-a9ff-48ab03ba1145",
   "metadata": {},
   "outputs": [],
   "source": [
    "from qkit.analysis.timedomain import timedomain\n",
    "td = timedomain()"
   ]
  },
  {
   "cell_type": "markdown",
   "id": "81c6d6ab-a885-41cd-9aa6-39c01b2ddaae",
   "metadata": {},
   "source": [
    "## Load qkit spectroscopy measurement file\n",
    "Spectroscopy measurement data with a given `uuid` can be loaded using `td.load(uuid)`. Several elements are available, especially\n",
    "* data file `td.df`,\n",
    "* settings `td.settings`,\n",
    "* measurement object `td.measurement`,\n",
    "* amplitude and phase values `td.amplitude_0` and `td.phase_0`,\n",
    "* scan dimension (1D, 2D or 3D) `td.scan_dim`,\n",
    "* in case of 2D and 3D scans, x-parameter dataset `td.x_ds`, values `td.x_vec`, name `td.x_coordname`, unit `td.x_unit`, \n",
    "* in case of 3D scans, y-parameter dataset `td.y_ds`, values `td.y_vec`, name `td.y_coordname`, unit `td.y_unit`."
   ]
  },
  {
   "cell_type": "code",
   "execution_count": null,
   "id": "ac1a3a22-7807-410d-b90b-196af91123bf",
   "metadata": {},
   "outputs": [],
   "source": [
    "td.load('XXXXXX') # T1"
   ]
  },
  {
   "cell_type": "raw",
   "id": "f2c45698-6abd-438f-b5d9-7f033180f8bf",
   "metadata": {},
   "source": [
    "qd.open_qviewkit()"
   ]
  },
  {
   "cell_type": "markdown",
   "id": "86c1c8b0-4e69-43ec-8c18-600afcaf4bbd",
   "metadata": {},
   "source": [
    "## energy relaxation time $ T_1 $"
   ]
  },
  {
   "cell_type": "code",
   "execution_count": null,
   "id": "a188fdf3-2281-480b-b48b-b012abe1d2f4",
   "metadata": {},
   "outputs": [],
   "source": [
    "td.setup_T1_fit()\n",
    "td.fit_T1()"
   ]
  },
  {
   "cell_type": "markdown",
   "id": "cda0b128-c2be-4816-8bba-76b92285da57",
   "metadata": {},
   "source": [
    "## Ramsey dephasing time $ T_2 $"
   ]
  },
  {
   "cell_type": "code",
   "execution_count": null,
   "id": "02fbb6f6-755f-4300-ad8e-f9d9db6f0a97",
   "metadata": {},
   "outputs": [],
   "source": [
    "td.setup_Ramsey_fit()\n",
    "td.fit_Ramsey()"
   ]
  },
  {
   "cell_type": "markdown",
   "id": "17852637-518a-4c60-ada7-ae6d04819752",
   "metadata": {},
   "source": [
    "## Hahn-Echo dephasing time $ T_2 $"
   ]
  },
  {
   "cell_type": "code",
   "execution_count": null,
   "id": "af3f8601-79e1-4fa3-aeaf-802c9ee33f78",
   "metadata": {},
   "outputs": [],
   "source": [
    "td.setup_Echo_fit()\n",
    "td.fit_Echo()"
   ]
  },
  {
   "cell_type": "code",
   "execution_count": null,
   "id": "ce3e023c-9114-4e64-b571-9a972ff41ad4",
   "metadata": {},
   "outputs": [],
   "source": []
  }
 ],
 "metadata": {
  "kernelspec": {
   "display_name": "Python 3 (ipykernel)",
   "language": "python",
   "name": "python3"
  },
  "language_info": {
   "codemirror_mode": {
    "name": "ipython",
    "version": 3
   },
   "file_extension": ".py",
   "mimetype": "text/x-python",
   "name": "python",
   "nbconvert_exporter": "python",
   "pygments_lexer": "ipython3",
   "version": "3.8.16"
  }
 },
 "nbformat": 4,
 "nbformat_minor": 5
}
