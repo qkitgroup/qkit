{
 "cells": [
  {
   "cell_type": "markdown",
   "metadata": {},
   "source": [
    "# Qkit's qviewkit: Some Basics"
   ]
  },
  {
   "cell_type": "markdown",
   "metadata": {},
   "source": [
    "qviewkit is our own viewer for looking at h5 files. It builds on the python modules pyqtgraph and PyQt. By default, the h5 files get opened with qviewkit during the measurement process.\n",
    "\n",
    "Since the viewer is not operated by the user on a code level this basic notebook is rather short."
   ]
  },
  {
   "cell_type": "markdown",
   "metadata": {},
   "source": [
    "## Get started"
   ]
  },
  {
   "cell_type": "markdown",
   "metadata": {},
   "source": [
    "The h5 file can be opened by using the qviewkit.bat file provided in the gui/qviewkit folder. Alternatively qviewkit can be started via command line with an optional filepath argument."
   ]
  },
  {
   "cell_type": "raw",
   "metadata": {},
   "source": [
    "python -m qkit.gui.qviewkit.main -f [h5_filepath]"
   ]
  },
  {
   "cell_type": "markdown",
   "metadata": {},
   "source": [
    "Another option for opening h5 files is to use qkit's file info database. For more informatrion see the file_info_database_basics.ipnb."
   ]
  },
  {
   "cell_type": "markdown",
   "metadata": {},
   "source": [
    "## Automated saving of plots"
   ]
  },
  {
   "cell_type": "markdown",
   "metadata": {},
   "source": [
    "qviewkit also provides a little helpter function to automatically plot and save all datasets in a default configuration with matplotlib. This enables a quick look at .pngs or .pdfs of the datasets."
   ]
  },
  {
   "cell_type": "raw",
   "metadata": {},
   "source": [
    "python -m qkit.gui.plot.plot -f [h5_filepath] -c [comment] -pdf [save_pdf]"
   ]
  },
  {
   "cell_type": "markdown",
   "metadata": {},
   "source": [
    "Other features of the viewer are shown in the documentation."
   ]
  }
 ],
 "metadata": {
  "kernelspec": {
   "display_name": "Python 2",
   "language": "python",
   "name": "python2"
  },
  "language_info": {
   "codemirror_mode": {
    "name": "ipython",
    "version": 2
   },
   "file_extension": ".py",
   "mimetype": "text/x-python",
   "name": "python",
   "nbconvert_exporter": "python",
   "pygments_lexer": "ipython2",
   "version": "2.7.15"
  }
 },
 "nbformat": 4,
 "nbformat_minor": 2
}
