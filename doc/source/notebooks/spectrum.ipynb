{
 "cells": [
  {
   "cell_type": "markdown",
   "id": "e49c17e7-404b-4ebf-9fd3-4bfc6a2572d0",
   "metadata": {
    "tags": []
   },
   "source": [
    "# Spectroscopy measurement data analysis\n",
    "This is an example notebook for the analysis class `spectrum` of `qkit.analysis.spectroscopy.py`. This handels spectroscopy measurement data (focussed of resonator measurements) taken with `qkit.measure.spectroscopy.spectroscopy.py` and provides methods to\n",
    "* load data files,\n",
    "* open the qkit-viewer for .h5-files,\n",
    "* merge data files,\n",
    "* evaluate resonator measurements with a circlefit."
   ]
  },
  {
   "cell_type": "code",
   "execution_count": null,
   "id": "b1d24454-65e1-482f-b1f8-3b30091ea831",
   "metadata": {},
   "outputs": [],
   "source": [
    "import numpy as np\n",
    "from uncertainties import ufloat, umath, unumpy as unp\n",
    "from scipy import signal as sig\n",
    "import matplotlib.pyplot as plt"
   ]
  },
  {
   "cell_type": "code",
   "execution_count": null,
   "id": "09c18588-3e05-40d1-a4ab-84aaa8f2f91d",
   "metadata": {},
   "outputs": [],
   "source": [
    "import qkit\n",
    "qkit.start()"
   ]
  },
  {
   "cell_type": "code",
   "execution_count": null,
   "id": "d51bee9e-4f23-4544-a378-fa0e083fa0a0",
   "metadata": {},
   "outputs": [],
   "source": [
    "from qkit.analysis.spectroscopy import spectrum\n",
    "s = spectrum()"
   ]
  },
  {
   "cell_type": "markdown",
   "id": "b896c4e1-a098-49f5-a85d-50ca7b03bcfb",
   "metadata": {},
   "source": [
    "## Load qkit spectroscopy measurement file\n",
    "Spectroscopy measurement data with a given `uuid` can be loaded using `s.load(uuid)`. Several elements are available, especially\n",
    "* data file `s.df`,\n",
    "* settings `s.settings`,\n",
    "* measurement object `s.measurement`,\n",
    "* frequency values `s.frequency`,\n",
    "* amplitude and phase values `s.amplitude` and `s.phase`,\n",
    "* scan dimension (1D, 2D or 3D) `s.scan_dim`,\n",
    "* in case of 2D and 3D scans, x-parameter dataset `s.x_ds`, values `s.x_vec`, name `s.x_coordname`, unit `s.x_unit`, \n",
    "* in case of 3D scans, y-parameter dataset `s.y_ds`, values `s.y_vec`, name `s.y_coordname`, unit `s.y_unit`."
   ]
  },
  {
   "cell_type": "code",
   "execution_count": null,
   "id": "ce105d0f-5da4-467b-ba94-f1cff9acb4e0",
   "metadata": {},
   "outputs": [],
   "source": [
    "s.load('XXXXXX')"
   ]
  },
  {
   "cell_type": "raw",
   "id": "36eb9647-3107-4132-b95a-0e74b825dcfb",
   "metadata": {},
   "source": [
    "s.open_qviewkit()"
   ]
  },
  {
   "cell_type": "markdown",
   "id": "f9ef6e50-1ee6-4077-9af4-e44ec9afd82e",
   "metadata": {},
   "source": [
    "## resonant curve\n",
    "To evaluate a resonant curve by fitting a circle in the complex plane using, a circlefit routine of `qkit.analysis.circle_fit.circle_fit_2019` can be used. The resonator type (notch, reflection, inline) needs to be set in `s.setup_circlefit` and the fit is run by `s.circlefit.autofit()`.\n",
    "\n",
    "The results can be plotted by `s.circlefit.plotall()` and print by `s.circlefit.fitresults`."
   ]
  },
  {
   "cell_type": "code",
   "execution_count": null,
   "id": "0e9b6f49-00a8-4b1b-96e4-4185e1956ca2",
   "metadata": {},
   "outputs": [],
   "source": [
    "s.setup_circlefit(mode='notch')"
   ]
  },
  {
   "cell_type": "code",
   "execution_count": null,
   "id": "f36bd4f3-1714-4289-89b4-9c839961a664",
   "metadata": {},
   "outputs": [],
   "source": [
    "s.circlefit.autofit()\n",
    "s.circlefit.plotall()\n",
    "s.circlefit.fitresults"
   ]
  },
  {
   "cell_type": "code",
   "execution_count": null,
   "id": "ab16c673-784d-47fb-bb29-53d04b6b5ea4",
   "metadata": {},
   "outputs": [],
   "source": []
  }
 ],
 "metadata": {
  "kernelspec": {
   "display_name": "Python 3 (ipykernel)",
   "language": "python",
   "name": "python3"
  },
  "language_info": {
   "codemirror_mode": {
    "name": "ipython",
    "version": 3
   },
   "file_extension": ".py",
   "mimetype": "text/x-python",
   "name": "python",
   "nbconvert_exporter": "python",
   "pygments_lexer": "ipython3",
   "version": "3.8.16"
  }
 },
 "nbformat": 4,
 "nbformat_minor": 5
}
