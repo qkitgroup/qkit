{
 "cells": [
  {
   "cell_type": "markdown",
   "metadata": {},
   "source": [
    "# qkit measurement data analysis\n",
    "This is an example notebook for the analysis class `qData` of `qkit.analysis.qdata.py`. This handels any kind of qkit measurment data and is used as parent class of `IV_curve`, `spectrum`, etc.\n",
    "This basic class provides methods to\n",
    "* load data files,\n",
    "* open the qkit-viewer for .h5-files,\n",
    "* merge data files,"
   ]
  },
  {
   "cell_type": "code",
   "execution_count": null,
   "metadata": {},
   "outputs": [],
   "source": [
    "import qkit\n",
    "qkit.start()"
   ]
  },
  {
   "cell_type": "code",
   "execution_count": null,
   "metadata": {},
   "outputs": [],
   "source": [
    "from qkit.analysis.qdata import qData\n",
    "qd = qData()"
   ]
  },
  {
   "cell_type": "markdown",
   "metadata": {},
   "source": [
    "## Load qkit transport measurement file\n",
    "Qkit measurement data with a given `uuid` can be loaded using `qd.load(uuid)`. Several elements are available, especially\n",
    "* data file `qd.df`,\n",
    "* settings `qd.settings`,\n",
    "* measurement object `qd.measurement`,\n",
    "* all entries in data such as `qd.amplitude`,\n",
    "* all entries in analysis such as `qd.analysis.circ_amp_gen`,\n",
    "* all entries in view such as `qd.views.circ_IQ`\n",
    "* scan dimension (1D, 2D or 3D) `qd.scan_dim`,\n",
    "* in case of 2D and 3D scans, x-parameter dataset `qd.x_ds`, values `qd.x_vec`, name `qd.x_coordname`, unit `qd.x_unit`, \n",
    "* in case of 3D scans, y-parameter dataset `qd.y_ds`, values `qd.y_vec`, name `qd.y_coordname`, unit `qd.y_unit`."
   ]
  },
  {
   "cell_type": "code",
   "execution_count": null,
   "metadata": {},
   "outputs": [],
   "source": [
    "qd.load(uuid='XXXXXX')"
   ]
  },
  {
   "cell_type": "raw",
   "metadata": {},
   "source": [
    "qd.open_qviewkit()"
   ]
  },
  {
   "cell_type": "markdown",
   "metadata": {},
   "source": [
    "# Merge qkit transport measurement files\n",
    "Qkit measurement files can be merged depending on the scan dimension to one single new file by `qd.merge()`.\n",
    "* 1D: all sweep data are stacked and views are merged.\n",
    "* 2D: values of x-parameter and its corresponding sweep data are merged in the order `order`.\n",
    "* 3D: values of x- and y-parameters and its corresponding sweep data are merged in the order `order`."
   ]
  },
  {
   "cell_type": "code",
   "execution_count": null,
   "metadata": {},
   "outputs": [],
   "source": [
    "qd.merge(uuids=('XXXXXX', 'YYYYYY'), order=(-1, 1))"
   ]
  }
 ],
 "metadata": {
  "kernelspec": {
   "display_name": "Python 3 (ipykernel)",
   "language": "python",
   "name": "python3"
  },
  "language_info": {
   "codemirror_mode": {
    "name": "ipython",
    "version": 3
   },
   "file_extension": ".py",
   "mimetype": "text/x-python",
   "name": "python",
   "nbconvert_exporter": "python",
   "pygments_lexer": "ipython3",
   "version": "3.8.16"
  }
 },
 "nbformat": 4,
 "nbformat_minor": 4
}
