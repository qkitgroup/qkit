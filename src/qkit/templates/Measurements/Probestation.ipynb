{
 "cells": [
  {
   "metadata": {},
   "cell_type": "code",
   "outputs": [],
   "execution_count": null,
   "source": [
    "import qkit\n",
    "from qkit.analysis.numerical_derivative import SavgolNumericalDerivative\n",
    "from qkit.measure.unified_measurements import Experiment, Axis\n",
    "import qkit.measure.samples_class as sc\n",
    "from qkit.measure.transport_measurement import TransportMeasurement, MeasureModes"
   ],
   "id": "ffe8ce184a5a92d7"
  },
  {
   "cell_type": "markdown",
   "id": "6efcbcda-6b6d-43b3-b50d-9cacc860cdc1",
   "metadata": {},
   "source": [
    "# Probe Station Measurement Notebook\n",
    "This Notebook serves to make measurements using the fancy new probe station even more easy!\n",
    "You should be able to measure 100 Samples in 5 Minutes on your own, while the data is recorded automatically.\n",
    "\n",
    "Cells requiring your input are preceded by **bold text indicating user information.**\n",
    "\n",
    "First, Qkit and the device is initialized. **Input a unique run_id and your name below.**"
   ]
  },
  {
   "cell_type": "code",
   "execution_count": null,
   "id": "2f7aeebd-aa88-4320-8b32-ad5c6662c922",
   "metadata": {},
   "outputs": [],
   "source": [
    "\n",
    "qkit.cfg['load_visa']=True\n",
    "qkit.cfg['run_id']='Probestation_4' # Increment to current run ID.\n",
    "qkit.cfg['user']=r'Urs' # Put your name here\n",
    "qkit.start()"
   ]
  },
  {
   "cell_type": "markdown",
   "id": "f14cb876-1291-4650-9c54-8f2e0c4877b7",
   "metadata": {},
   "source": [
    "Load the multimeter used for measurement. Currently, we are using a Keysight B2900 Desktop Multimeter. If no one messed with the cables, everything should be configured correctly."
   ]
  },
  {
   "cell_type": "code",
   "execution_count": null,
   "id": "15ad6fef-3a54-46cd-a8fb-bd6184c43923",
   "metadata": {},
   "outputs": [],
   "source": [
    "# Connect to Desktop Multimeter\n",
    "IVD = qkit.instruments.create_from_config(\"probestation-multimeter\", reset=True)"
   ]
  },
  {
   "cell_type": "markdown",
   "id": "756798c8-53e3-4223-ba52-ca171e176ade",
   "metadata": {},
   "source": [
    "## Configure the Multimeter\n",
    "We need the multimeter to do the following:\n",
    "- Use 4-Wire Resistance Measurements\n",
    "- Calculate Resistance\n",
    "- Display only Channel 1"
   ]
  },
  {
   "cell_type": "code",
   "execution_count": null,
   "id": "69f585ed-405c-4cd5-86b1-17826bde646c",
   "metadata": {},
   "outputs": [],
   "source": [
    "IVD.set_defaults(1) # Configures 4-Wire IV-Measurements on channel 1. Note: 1 is preset 1, not channel 1.\n",
    "IVD.set_display('single1')"
   ]
  },
  {
   "cell_type": "markdown",
   "id": "3d6ae9a2-2ce0-4c5d-8747-d35e2612df1f",
   "metadata": {},
   "source": [
    "- Set Bias Current to user defined value\n",
    "- Limit Voltage accross DUT"
   ]
  },
  {
   "cell_type": "code",
   "execution_count": null,
   "id": "3774a42b-41f0-48c2-92ff-c4e84b10fd0b",
   "metadata": {},
   "outputs": [],
   "source": [
    "SENSE_LIMIT = 1 # V, prevents blown junctions due to overvoltage\n",
    "IVD.set_sense_limit(SENSE_LIMIT) # Configure compliance limit in Volts\n",
    "IVD.set_sense_nplc(1)\n",
    "IVD.set_bias_delay(15e-6)\n",
    "IVD.set_sense_delay(15e-6)"
   ]
  },
  {
   "cell_type": "markdown",
   "id": "69bdf96a-a578-4dd5-83be-66cf3c739bd0",
   "metadata": {},
   "source": [
    "## Labeling the Sample\n",
    "We provide some Information about the sample. **The sample name (usually the chip number and the chiplet) and a comment are needed.**"
   ]
  },
  {
   "cell_type": "code",
   "execution_count": null,
   "id": "24479838-e498-4f67-a993-146b477741d1",
   "metadata": {},
   "outputs": [],
   "source": [
    "sample = sc.Sample()\n",
    "sample.name = 'US16-23' # Change to something unique\n",
    "sample.comment = 'Hope for the Best.' # Optional comment here\n",
    "print(sample.get_all())"
   ]
  },
  {
   "cell_type": "markdown",
   "id": "18082e7e-ac8a-448b-b886-7049fadca840",
   "metadata": {},
   "source": [
    "## Configure the Transport Measurement\n",
    "A room temperature IV curve is recorded. In this case, more data is better, allowing for automatic detection of defective samples (short circuit and open line). A 4 quadrant sweep is used.\n",
    "\n",
    "**Update the maximum current in order not to destroy your sample!**"
   ]
  },
  {
   "cell_type": "code",
   "execution_count": null,
   "id": "fa50b0db-ac95-4ff7-b6f4-247545823edb",
   "metadata": {},
   "outputs": [],
   "source": [
    "tr = TransportMeasurement(iv_device=IVD, mode=MeasureModes.IV)\n",
    "tr.with_analysis(SavgolNumericalDerivative())\n",
    "\n",
    "CURRENT = 50e-6\n",
    "tr.add_sweep_4quadrants(0, CURRENT, step=CURRENT/20, offset=0)\n",
    "#tr.add_sweep_halfswing(amplitude=CURRENT, step=CURRENT/10, offset=0)"
   ]
  },
  {
   "cell_type": "markdown",
   "id": "298d35a1-210b-4b3f-9fad-c933fdf5b182",
   "metadata": {},
   "source": [
    "We introduce a little hack to efficiently use the transport measurement class to capture multiple samples. We present ourselves as a 3D-Measurement. The outer two dimensions are the x- and y-Position on our chip, for which the z (current bias) sweep is performed.\n",
    "\n",
    "**Update the labels to match your sample!**\n",
    "\n",
    "x_values is the outer loop and goes from 1 to 10 (both inclusive).\n",
    "y_values is the inner loop and goes from A to J (both inclusive).\n",
    "Hence the measurement sequence is 1A, 2A, ..., 10A, 1B, 2B, ..., 10J.\n",
    "\n",
    "Labels can be changed here:"
   ]
  },
  {
   "cell_type": "code",
   "execution_count": null,
   "id": "9694d9d47cdbc986",
   "metadata": {},
   "source": [
    "x_values = list(range(2, 10 + 1))\n",
    "e = Experiment(name='rt_transport', sample=sample)\n",
    "with e.sweep(lambda x: input(f\"Confirm {x} [ENTER]:\"), axis=Axis(name='SampleIndex', range=x_values)) as x_sweep:\n",
    "    x_sweep.measure(tr)\n",
    "e.run()"
   ],
   "outputs": []
  }
 ],
 "metadata": {
  "kernelspec": {
   "display_name": "Python 3 (ipykernel)",
   "language": "python",
   "name": "python3"
  },
  "language_info": {
   "codemirror_mode": {
    "name": "ipython",
    "version": 3
   },
   "file_extension": ".py",
   "mimetype": "text/x-python",
   "name": "python",
   "nbconvert_exporter": "python",
   "pygments_lexer": "ipython3",
   "version": "3.9.10"
  }
 },
 "nbformat": 4,
 "nbformat_minor": 5
}
