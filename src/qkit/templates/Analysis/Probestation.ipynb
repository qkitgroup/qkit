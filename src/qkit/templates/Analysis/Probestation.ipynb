{
 "cells": [
  {
   "cell_type": "code",
   "execution_count": null,
   "metadata": {},
   "outputs": [],
   "source": [
    "import qkit\n",
    "qkit.start()\n",
    "\n",
    "from qkit.storage.store import Data"
   ]
  },
  {
   "attachments": {},
   "cell_type": "markdown",
   "metadata": {},
   "source": [
    "# Probe Station Analysis Notebook\n",
    "This notebook performs analysis on data gathered by the coresponding measurement notebook.\n",
    "\n",
    "Cells requiring your input are preceded by **bold text indicating user information.**\n",
    "\n",
    "First, Qkit needs to load the data gathered from the probe station. **Input the UUID below.**"
   ]
  },
  {
   "cell_type": "code",
   "execution_count": null,
   "metadata": {},
   "outputs": [],
   "source": [
    "h5 = Data(qkit.fid.get('RSYBR9'))"
   ]
  },
  {
   "attachments": {},
   "cell_type": "markdown",
   "metadata": {},
   "source": [
    "Using numpy, the data is collected into a 1d-Array per measurement."
   ]
  },
  {
   "cell_type": "code",
   "execution_count": null,
   "metadata": {},
   "outputs": [],
   "source": [
    "# Prepare Data Set\n",
    "import numpy as np\n",
    "\n",
    "# Step 1: Accumulate data for each sample\n",
    "i_collected = np.concatenate([a[:] for a in [h5.data.i_0, h5.data.i_1]], axis = -1)\n",
    "v_collected = np.concatenate([a[:] for a in [h5.data.v_0, h5.data.v_1]], axis = -1)\n",
    "dvdi_collected = np.concatenate([a[:] for a in [h5.analysis.dvdi_0, h5.analysis.dvdi_1]], axis = -1)\n",
    "print(\"Raw data shapes:\", i_collected.shape, v_collected.shape, dvdi_collected.shape)\n"
   ]
  },
  {
   "attachments": {},
   "cell_type": "markdown",
   "metadata": {},
   "source": [
    "## Sanity Check: Check for faulty samples\n",
    "Sanity checks are performed to identify potential errors, such as misconfigured measurements (out of range), open line and short circuits.\n",
    "\n",
    "Here, a resistance below 20 Ohm is assumed to imply a short circuit. **Adjust the SHORT_CIRCUIT_RESISTANCE value as required for your samples.**"
   ]
  },
  {
   "cell_type": "code",
   "execution_count": null,
   "metadata": {},
   "outputs": [],
   "source": [
    "\n",
    "# Get maximum i and v, naive resistance calculation\n",
    "i_max = np.max(np.abs(i_collected), axis=-1)\n",
    "v_max = np.max(np.abs(v_collected), axis=-1)\n",
    "print(\"Max shapes:\", i_max.shape, v_max.shape)\n",
    "\n",
    "i_normalized = i_collected / i_max[:, :, np.newaxis]\n",
    "v_normalized = v_collected / v_max[:, :, np.newaxis]\n",
    "dvdi_normalized = dvdi_collected / (v_max / i_max)[:, :, np.newaxis]\n",
    "print(\"Normalized data shapes:\", i_normalized.shape, v_normalized.shape, dvdi_normalized.shape)\n",
    "\n",
    "# Sanity check:\n",
    "SHORT_CIRCUIT_RESISTANCE = 20 # Adjust here\n",
    "excessive_derivatives = np.max(np.abs(dvdi_normalized), axis=-1) > 2\n",
    "flat_sections = np.min(np.abs(dvdi_normalized), axis=-1) < 0.5\n",
    "short_circuit = np.max(np.abs(dvdi_collected), axis=-1) < SHORT_CIRCUIT_RESISTANCE\n",
    "faulty = excessive_derivatives | flat_sections | short_circuit\n",
    "print(\"Classification shape\", faulty.shape)"
   ]
  },
  {
   "attachments": {},
   "cell_type": "markdown",
   "metadata": {},
   "source": [
    "An overview over the location of the faulty samples is generated. This can be used to identify scratches or similar mechanical root causes."
   ]
  },
  {
   "cell_type": "code",
   "execution_count": null,
   "metadata": {},
   "outputs": [],
   "source": [
    "# Show faulty map\n",
    "import matplotlib.pyplot as plt\n",
    "plt.imshow(faulty)\n",
    "plt.show()"
   ]
  },
  {
   "attachments": {},
   "cell_type": "markdown",
   "metadata": {},
   "source": [
    "All faulty and working samples are plotted in two plots. This serves to verify the classification is working."
   ]
  },
  {
   "cell_type": "code",
   "execution_count": null,
   "metadata": {},
   "outputs": [],
   "source": [
    "# Display all sample:\n",
    "import matplotlib.pyplot as plt\n",
    "# Show faulty\n",
    "it = np.nditer(faulty, flags=['multi_index'])\n",
    "for defective in it:\n",
    "    if defective:\n",
    "        plt.plot(i_normalized[it.multi_index], v_normalized[it.multi_index])\n",
    "plt.show()\n",
    "\n",
    "# Show not faulty\n",
    "it = np.nditer(faulty, flags=['multi_index'])\n",
    "for defective in it:\n",
    "    if not defective:\n",
    "        plt.plot(i_normalized[it.multi_index], v_normalized[it.multi_index])\n",
    "plt.show()\n",
    "\n",
    "# Show not faulty\n",
    "it = np.nditer(faulty, flags=['multi_index'])\n",
    "for defective in it:\n",
    "    if not defective:\n",
    "        plt.plot(i_normalized[it.multi_index], dvdi_normalized[it.multi_index])\n",
    "plt.show()"
   ]
  },
  {
   "cell_type": "markdown",
   "metadata": {},
   "source": [
    "## Visualize Resistance and Conductivity across the sample"
   ]
  },
  {
   "cell_type": "code",
   "execution_count": null,
   "metadata": {},
   "outputs": [],
   "source": [
    "# plot RT resistance across the chip:\n",
    "from matplotlib.colors import LogNorm\n",
    "average_resistance = np.average(dvdi_collected, axis=-1)\n",
    "average_resistance[np.where(faulty)] = 0\n",
    "non_faulty_data = average_resistance[np.where(np.logical_not(faulty))]\n",
    "\n",
    "plt.imshow(average_resistance, norm=LogNorm(vmin=np.min(non_faulty_data), vmax=np.max(non_faulty_data)))\n",
    "plt.colorbar()\n",
    "plt.title(\"Resistance\")\n",
    "plt.show()"
   ]
  },
  {
   "cell_type": "code",
   "execution_count": null,
   "metadata": {},
   "outputs": [],
   "source": [
    "from matplotlib.colors import LogNorm\n",
    "average_conductivity = 1/np.average(dvdi_collected, axis=-1)\n",
    "average_conductivity[np.where(faulty)] = 0\n",
    "non_faulty_data = average_conductivity[np.where(np.logical_not(faulty))]\n",
    "\n",
    "plt.imshow(average_conductivity, norm=LogNorm(vmin=np.min(non_faulty_data), vmax=np.max(non_faulty_data)))\n",
    "plt.colorbar()\n",
    "plt.title(\"Conductivity\")\n",
    "plt.show()"
   ]
  },
  {
   "attachments": {},
   "cell_type": "markdown",
   "metadata": {},
   "source": [
    "### Visualize conductivity along one axis\n",
    "Here, it is assumed that all samples along one axis are comparable. **This might need to be change.**\n",
    "\n",
    "This data can be used for fitting models, to confirm or refute hypotheses about how / if the sample works."
   ]
  },
  {
   "cell_type": "code",
   "execution_count": null,
   "metadata": {},
   "outputs": [],
   "source": [
    "indices =  np.where(np.logical_not(faulty))\n",
    "# print(indices.shape, non_faulty_data.shape)\n",
    "plt.scatter(indices[1], non_faulty_data) # Change axis along which samples are comparable\n",
    "plt.show()"
   ]
  }
 ],
 "metadata": {
  "kernelspec": {
   "display_name": "Python 3",
   "language": "python",
   "name": "python3"
  },
  "language_info": {
   "codemirror_mode": {
    "name": "ipython",
    "version": 3
   },
   "file_extension": ".py",
   "mimetype": "text/x-python",
   "name": "python",
   "nbconvert_exporter": "python",
   "pygments_lexer": "ipython3",
   "version": "3.9.10"
  },
  "orig_nbformat": 4
 },
 "nbformat": 4,
 "nbformat_minor": 2
}
