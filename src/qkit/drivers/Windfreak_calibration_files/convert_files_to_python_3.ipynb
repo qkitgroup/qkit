{
 "cells": [
  {
   "cell_type": "code",
   "execution_count": 7,
   "metadata": {},
   "outputs": [],
   "source": [
    "import pickle"
   ]
  },
  {
   "cell_type": "code",
   "execution_count": 23,
   "metadata": {},
   "outputs": [],
   "source": [
    "path = \"C:\\qkit_old\\qkit\\instruments\\Windfreak_calibration_files\\Windfreak_290_\"\n",
    "channelA = \"ChannelA_calibration_with_freq_and_pow\"\n",
    "channelB = \"ChannelB_calibration_with_freq_and_pow\"\n"
   ]
  },
  {
   "cell_type": "code",
   "execution_count": 24,
   "metadata": {},
   "outputs": [],
   "source": [
    "with open(path + channelA, \"rb\") as f:\n",
    "    data_ChA = pickle.load(f)\n",
    "with open(path + channelB, \"rb\") as f:\n",
    "    data_ChB = pickle.load(f)"
   ]
  },
  {
   "cell_type": "code",
   "execution_count": 28,
   "metadata": {},
   "outputs": [],
   "source": [
    "for key in data_ChA.keys():\n",
    "    np.savetxt(path + channelA + \"_\" + key + \".txt\", data_ChA[key])"
   ]
  },
  {
   "cell_type": "code",
   "execution_count": 29,
   "metadata": {},
   "outputs": [],
   "source": [
    "for key in data_ChB.keys():\n",
    "    np.savetxt(path + channelB + \"_\" + key + \".txt\", data_ChB[key])"
   ]
  },
  {
   "cell_type": "code",
   "execution_count": null,
   "metadata": {},
   "outputs": [],
   "source": []
  }
 ],
 "metadata": {
  "kernelspec": {
   "display_name": "Python 2",
   "language": "python",
   "name": "python2"
  },
  "language_info": {
   "codemirror_mode": {
    "name": "ipython",
    "version": 2
   },
   "file_extension": ".py",
   "mimetype": "text/x-python",
   "name": "python",
   "nbconvert_exporter": "python",
   "pygments_lexer": "ipython2",
   "version": "2.7.16"
  }
 },
 "nbformat": 4,
 "nbformat_minor": 2
}
